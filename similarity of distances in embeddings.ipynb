{
 "cells": [
  {
   "cell_type": "code",
   "execution_count": 1,
   "metadata": {},
   "outputs": [],
   "source": [
    "import gensim\n",
    "import pickle\n",
    "import numpy as np\n",
    "import matplotlib.pyplot as plt\n",
    "%matplotlib inline"
   ]
  },
  {
   "cell_type": "code",
   "execution_count": 2,
   "metadata": {},
   "outputs": [],
   "source": [
    "from gensim.models import KeyedVectors\n",
    "word2vec = KeyedVectors.load_word2vec_format('data/word2vec-google-news-300/word2vec-google-news-300.gz', limit=600000, binary=True)"
   ]
  },
  {
   "cell_type": "markdown",
   "metadata": {},
   "source": [
    "# Get Hispanic and American Words and Normalize"
   ]
  },
  {
   "cell_type": "code",
   "execution_count": 3,
   "metadata": {},
   "outputs": [],
   "source": [
    "hispanic_vector = word2vec.get_vector('Hispanic')\n",
    "white_vector = word2vec.get_vector('American')\n",
    "\n",
    "hispanic_vector = hispanic_vector/np.linalg.norm(hispanic_vector)\n",
    "white_vector = white_vector/np.linalg.norm(white_vector)"
   ]
  },
  {
   "cell_type": "markdown",
   "metadata": {},
   "source": [
    "# Get Direction"
   ]
  },
  {
   "cell_type": "code",
   "execution_count": 4,
   "metadata": {},
   "outputs": [],
   "source": [
    "direction = white_vector - hispanic_vector"
   ]
  },
  {
   "cell_type": "code",
   "execution_count": 5,
   "metadata": {},
   "outputs": [],
   "source": [
    "direction_norm = np.sqrt(np.sum(direction**2))"
   ]
  },
  {
   "cell_type": "markdown",
   "metadata": {},
   "source": [
    "# Get Distances"
   ]
  },
  {
   "cell_type": "code",
   "execution_count": 10,
   "metadata": {},
   "outputs": [
    {
     "data": {
      "text/plain": [
       "[('Hispanic', -0.5000000635925902),\n",
       " ('American', 0.5000000145469483),\n",
       " ('businessman', 0.014966342006337518),\n",
       " ('manager', -0.044046897840120204),\n",
       " ('employed', 0.0005510201236649229),\n",
       " ('unemployed', -0.09912955557016717),\n",
       " ('legislator', -0.04502839309565208),\n",
       " ('butler', 0.03777119222427905),\n",
       " ('crooner', 0.0009441761200545905),\n",
       " ('waiter', -0.017066888683566254),\n",
       " ('waitress', -0.03349308495058617),\n",
       " ('janitor', -0.05771596729073341),\n",
       " ('governor', -0.06402036767245431),\n",
       " ('doctor', 0.043009416984329),\n",
       " ('nurse', -0.03986889885230496),\n",
       " ('attorney', -0.08320580278383641),\n",
       " ('lawyer', -0.0033959922827912843),\n",
       " ('dentist', -0.07016067359769895),\n",
       " ('astronaut', -0.002376163260064759),\n",
       " ('plumber', -0.0058440809767415485),\n",
       " ('barber', -0.04796734896612049),\n",
       " ('cashier', -0.07716144852631611),\n",
       " ('dishwasher', -0.02779293300810745),\n",
       " ('childcare', -0.13453235520327422),\n",
       " ('nanny', -0.04142837554047466),\n",
       " ('manicurist', -0.06410031206879484),\n",
       " ('bartender', -0.04590868266906822),\n",
       " ('carpenter', 0.005098168798823023)]"
      ]
     },
     "execution_count": 10,
     "metadata": {},
     "output_type": "execute_result"
    }
   ],
   "source": [
    "words_to_check = ['Hispanic','American','businessman','manager','employed'\n",
    "                  ,'unemployed','legislator','butler','crooner','waiter','waitress','janitor'\n",
    "                  ,'governor','doctor','nurse','attorney','lawyer','dentist','astronaut'\n",
    "                  ,'plumber','barber','cashier','dishwasher','childcare','nanny','manicurist'\n",
    "                  ,'bartender','carpenter']\n",
    "adjectives = ['high-quality','low-quality','best','worst'\n",
    "                  ,'five-star','one-star','tasty','nasty','clean','dirty','job','jobless']\n",
    "\n",
    "positions = list()\n",
    "for word in words_to_check:\n",
    "    word_vector = word2vec.get_vector(word)\n",
    "    word_vector = word_vector/np.linalg.norm(word_vector)\n",
    "    position = np.dot(word_vector, direction)/direction_norm**2\n",
    "    positions.append(position)\n",
    "    \n",
    "[(i, x) for i, x in zip(words_to_check, positions)]"
   ]
  },
  {
   "cell_type": "code",
   "execution_count": 11,
   "metadata": {},
   "outputs": [],
   "source": [
    "with open(\"test.txt\", \"rb\") as fp:   # Unpickling\n",
    "    other_pos = pickle.load(fp)"
   ]
  },
  {
   "cell_type": "code",
   "execution_count": 19,
   "metadata": {},
   "outputs": [
    {
     "data": {
      "text/plain": [
       "(-0.3, 0.4)"
      ]
     },
     "execution_count": 19,
     "metadata": {},
     "output_type": "execute_result"
    },
    {
     "data": {
      "image/png": "[encoded data removed]",
      "text/plain": [
       "<Figure size 432x288 with 1 Axes>"
      ]
     },
     "metadata": {
      "needs_background": "light"
     },
     "output_type": "display_data"
    }
   ],
   "source": [
    "plt.scatter(positions[2:], other_pos[2:])\n",
    "plt.xlim(-0.3,0.4)\n",
    "plt.ylim(-0.3,0.4)"
   ]
  }
 ],
 "metadata": {
  "kernelspec": {
   "display_name": "Python 3",
   "language": "python",
   "name": "python3"
  },
  "language_info": {
   "codemirror_mode": {
    "name": "ipython",
    "version": 3
   },
   "file_extension": ".py",
   "mimetype": "text/x-python",
   "name": "python",
   "nbconvert_exporter": "python",
   "pygments_lexer": "ipython3",
   "version": "3.8.3"
  }
 },
 "nbformat": 4,
 "nbformat_minor": 4
}
