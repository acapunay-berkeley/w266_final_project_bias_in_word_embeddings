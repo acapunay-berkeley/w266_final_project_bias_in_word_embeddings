{
 "cells": [
  {
   "cell_type": "markdown",
   "metadata": {},
   "source": [
    "# Similarity of Displacements in embeddings"
   ]
  },
  {
   "cell_type": "code",
   "execution_count": 1,
   "metadata": {},
   "outputs": [],
   "source": [
    "import numpy as np\n",
    "import pandas as pd\n",
    "from sklearn.preprocessing import normalize\n",
    "from gensim.models import KeyedVectors\n",
    "import matplotlib.pyplot as plt\n",
    "%matplotlib inline"
   ]
  },
  {
   "cell_type": "markdown",
   "metadata": {},
   "source": [
    "## Helper Functions"
   ]
  },
  {
   "cell_type": "markdown",
   "metadata": {},
   "source": [
    "Source: \"How to make a racist AI without really trying\""
   ]
  },
  {
   "cell_type": "code",
   "execution_count": 2,
   "metadata": {},
   "outputs": [],
   "source": [
    "def load_embeddings(filename):\n",
    "    \n",
    "    labels = []\n",
    "    rows = []\n",
    "    with open(filename, encoding='utf-8') as infile:\n",
    "        \n",
    "        # Get the file\n",
    "        for i, line in enumerate(infile):\n",
    "            if i % 100000 == 0:\n",
    "                print(i)\n",
    "            items = line.rstrip().split(' ')\n",
    "            if len(items) == 2:\n",
    "                continue\n",
    "            labels.append(items[0])\n",
    "            \n",
    "            values = np.array([float(x) for x in items[1:]], 'f')\n",
    "            \n",
    "            # Normalize the values for geometry calculations\n",
    "            values = normalize(values.reshape(1, -1))\n",
    "            \n",
    "            rows.append(values)\n",
    "        \n",
    "        arr = np.vstack(rows)\n",
    "        return pd.DataFrame(arr, index=labels, dtype='f')"
   ]
  },
  {
   "cell_type": "markdown",
   "metadata": {},
   "source": [
    "## Data In"
   ]
  },
  {
   "cell_type": "code",
   "execution_count": 3,
   "metadata": {},
   "outputs": [
    {
     "name": "stdout",
     "output_type": "stream",
     "text": [
      "0\n",
      "100000\n",
      "200000\n",
      "300000\n"
     ]
    }
   ],
   "source": [
    "# Get the Glove and word2vec embeddings\n",
    "glove = load_embeddings('data/glove.6B.100d.txt')\n",
    "word2vec = KeyedVectors.load_word2vec_format('data/word2vec-google-news-300/word2vec-google-news-300.gz', limit=600000, binary=True)"
   ]
  },
  {
   "cell_type": "markdown",
   "metadata": {},
   "source": [
    "## Analysis"
   ]
  },
  {
   "cell_type": "code",
   "execution_count": 35,
   "metadata": {},
   "outputs": [],
   "source": [
    "# Get our two endpoints for our hispanic-american axis in both embeddings\n",
    "mexican_vector_glove = np.array(glove[glove.index == 'mexican'])\n",
    "american_vector_glove = np.array(glove[glove.index == 'american'])\n",
    "\n",
    "mexican_vector_word2vec = word2vec.get_vector('mexican')\n",
    "american_vector_word2vec = word2vec.get_vector('american')"
   ]
  },
  {
   "cell_type": "code",
   "execution_count": 36,
   "metadata": {},
   "outputs": [],
   "source": [
    "# Get directions in both embeddings\n",
    "direction_glove = american_vector_glove - mexican_vector_glove\n",
    "direction_word2vec = american_vector_word2vec - mexican_vector_word2vec"
   ]
  },
  {
   "cell_type": "markdown",
   "metadata": {},
   "source": [
    "### Antonyms"
   ]
  },
  {
   "cell_type": "code",
   "execution_count": 37,
   "metadata": {},
   "outputs": [],
   "source": [
    "# Antonyms words to check\n",
    "antonyms = [('best','worst')\n",
    "            ,('tasty','nasty')\n",
    "            ,('clean','dirty')\n",
    "            ,('employed','unemployed')\n",
    "            ,('beautiful','ugly')\n",
    "            ,('safe','dangerous')\n",
    "            ,('capable','incapable')\n",
    "            ,('early','late')\n",
    "            ,('succeed','fail')\n",
    "            ,('gentle','rough')\n",
    "            ,('brave','cowardly')\n",
    "            ,('intelligent','stupid')\n",
    "            ,('superior','inferior')\n",
    "            ,('diligent','lazy')\n",
    "            ,('quiet','noisy')\n",
    "            ,('pleasant','unpleasant')\n",
    "            ,('pure','impure')\n",
    "            ,('qualified','unqualified')\n",
    "            ,('courteous','rude')\n",
    "            ,('sober','drunk')\n",
    "            ,('safe','unsafe')\n",
    "            ,('useful','useless')\n",
    "            ,('obedient','disobedient')\n",
    "            ,('neat','messy')]"
   ]
  },
  {
   "cell_type": "code",
   "execution_count": 38,
   "metadata": {},
   "outputs": [],
   "source": [
    "# Let's calculate the displacements of each antonym pair on the mexican-american axis\n",
    "displacements_glove = list()\n",
    "for antonym_pair in antonyms:\n",
    "    \n",
    "    positive_word = antonym_pair[0]\n",
    "    negative_word = antonym_pair[1]\n",
    "    \n",
    "    positive_word_position = np.sum(np.array(glove[glove.index == positive_word]) * direction_glove)/np.linalg.norm(direction_glove)**2 \n",
    "    negative_word_position = np.sum(np.array(glove[glove.index == negative_word]) * direction_glove)/np.linalg.norm(direction_glove)**2 \n",
    "    \n",
    "    displacements_glove.append(positive_word_position - negative_word_position)\n",
    "\n",
    "displacements_word2vec = list()\n",
    "for antonym_pair in antonyms:\n",
    "    \n",
    "    positive_word = antonym_pair[0]\n",
    "    negative_word = antonym_pair[1]\n",
    "    \n",
    "    positive_word_position = np.sum(word2vec.get_vector(positive_word) * direction_word2vec)/np.linalg.norm(direction_word2vec)**2 \n",
    "    negative_word_position = np.sum(word2vec.get_vector(negative_word) * direction_word2vec)/np.linalg.norm(direction_word2vec)**2 \n",
    "    \n",
    "    displacements_word2vec.append(positive_word_position - negative_word_position)"
   ]
  },
  {
   "cell_type": "code",
   "execution_count": 39,
   "metadata": {},
   "outputs": [
    {
     "data": {
      "image/png": "[encoded data removed]",
      "text/plain": [
       "<Figure size 576x576 with 1 Axes>"
      ]
     },
     "metadata": {
      "needs_background": "light"
     },
     "output_type": "display_data"
    }
   ],
   "source": [
    "# Let's plot it\n",
    "fig, ax = plt.subplots(figsize=(8,8))\n",
    "\n",
    "ax.scatter(displacements_glove, displacements_word2vec)\n",
    "ax.plot([-0.25,0.25], [-0.25,0.25], linestyle='--', color='red', label='same displacement')\n",
    "_ = ax.set_xlim(-0.25, 0.25)\n",
    "_ = ax.set_ylim(-0.25, 0.25)\n",
    "_ = ax.set_xlabel('Displacement on Glove')\n",
    "_ = ax.set_ylabel('Displacement on word2vec')\n",
    "_ = ax.legend()\n",
    "\n",
    "plt.savefig('img/similarity_of_displacements.jpg')"
   ]
  },
  {
   "cell_type": "code",
   "execution_count": null,
   "metadata": {},
   "outputs": [],
   "source": []
  }
 ],
 "metadata": {
  "kernelspec": {
   "display_name": "Python 3",
   "language": "python",
   "name": "python3"
  },
  "language_info": {
   "codemirror_mode": {
    "name": "ipython",
    "version": 3
   },
   "file_extension": ".py",
   "mimetype": "text/x-python",
   "name": "python",
   "nbconvert_exporter": "python",
   "pygments_lexer": "ipython3",
   "version": "3.8.3"
  }
 },
 "nbformat": 4,
 "nbformat_minor": 4
}
