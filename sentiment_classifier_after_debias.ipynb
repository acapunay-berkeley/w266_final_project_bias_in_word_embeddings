{
 "cells": [
  {
   "cell_type": "markdown",
   "metadata": {},
   "source": [
    "Source: http://blog.conceptnet.io/posts/2017/how-to-make-a-racist-ai-without-really-trying/"
   ]
  },
  {
   "cell_type": "code",
   "execution_count": 1,
   "metadata": {},
   "outputs": [],
   "source": [
    "import re\n",
    "import numpy as np\n",
    "import pandas as pd\n",
    "from sklearn.preprocessing import normalize\n",
    "from sklearn.model_selection import train_test_split\n",
    "from sklearn.metrics import accuracy_score\n",
    "from sklearn.linear_model import SGDClassifier"
   ]
  },
  {
   "cell_type": "code",
   "execution_count": 2,
   "metadata": {},
   "outputs": [],
   "source": [
    "TOKEN_RE = re.compile(r\"\\w.*?\\b\")"
   ]
  },
  {
   "cell_type": "code",
   "execution_count": 3,
   "metadata": {},
   "outputs": [],
   "source": [
    "def load_lexicon(filename):\n",
    "    \"\"\"\n",
    "    Load a file from Bing Liu's sentiment lexicon\n",
    "    (https://www.cs.uic.edu/~liub/FBS/sentiment-analysis.html), containing\n",
    "    English words in Latin-1 encoding.\n",
    "    \n",
    "    One file contains a list of positive words, and the other contains\n",
    "    a list of negative words. The files contain comment lines starting\n",
    "    with ';' and blank lines, which should be skipped.\n",
    "    \"\"\"\n",
    "    lexicon = []\n",
    "    with open(filename, encoding='latin-1') as infile:\n",
    "        for line in infile:\n",
    "            line = line.rstrip()\n",
    "            if line and not line.startswith(';'):\n",
    "                lexicon.append(line)\n",
    "    return lexicon\n",
    "\n",
    "def load_embeddings(filename):\n",
    "    \n",
    "    labels = []\n",
    "    rows = []\n",
    "    with open(filename, encoding='utf-8') as infile:\n",
    "        \n",
    "        # Get the file\n",
    "        for i, line in enumerate(infile):\n",
    "            if i % 100000 == 0:\n",
    "                print(i)\n",
    "            items = line.rstrip().split(' ')\n",
    "            if len(items) == 2:\n",
    "                continue\n",
    "            labels.append(items[0])\n",
    "            \n",
    "            values = np.array([float(x) for x in items[1:]], 'f')\n",
    "            \n",
    "            # Normalize the values for geometry calculations\n",
    "            values = normalize(values.reshape(1, -1))\n",
    "            \n",
    "            rows.append(values)\n",
    "        \n",
    "        arr = np.vstack(rows)\n",
    "        return pd.DataFrame(arr, index=labels, dtype='f')\n",
    "\n",
    "def vecs_to_sentiment(vecs):\n",
    "    # predict_log_proba gives the log probability for each class\n",
    "    predictions = model.predict_log_proba(vecs)\n",
    "\n",
    "    # To see an overall positive vs. negative classification in one number,\n",
    "    # we take the log probability of positive sentiment minus the log\n",
    "    # probability of negative sentiment.\n",
    "    return predictions[:, 1] - predictions[:, 0]\n",
    "\n",
    "\n",
    "def words_to_sentiment(words):\n",
    "    vecs = embeddings.loc[words].dropna()\n",
    "    log_odds = vecs_to_sentiment(vecs)\n",
    "    return pd.DataFrame({'sentiment': log_odds}, index=vecs.index)\n",
    "\n",
    "def text_to_sentiment(text):\n",
    "    tokens = [token.casefold() for token in TOKEN_RE.findall(text)]\n",
    "    sentiments = words_to_sentiment(tokens)\n",
    "    return sentiments['sentiment'].mean()\n",
    "\n",
    "def neutralize(u, v):\n",
    "    return u - v * u.dot(v) / v.dot(v)\n",
    "\n",
    "def debias(embedding, bias_direction, equalize):\n",
    "    \n",
    "    print(\"Neutralizing\")\n",
    "    for i, _ in enumerate(embedding.index):\n",
    "        if i % 100000 == 0:\n",
    "            print(i)\n",
    "        embedding.iloc[i] = neutralize(np.array(embedding.iloc[i]), bias_direction)\n",
    "    \n",
    "    # Normalize\n",
    "    embedding = pd.DataFrame(embedding.to_numpy() / np.linalg.norm(embedding.to_numpy(), axis=1)[:, np.newaxis], index=embedding.index, dtype='f')\n",
    "    \n",
    "    for (a, b) in equalize:\n",
    "        va = np.array(embedding[embedding.index == a])[0]\n",
    "        vb = np.array(embedding[embedding.index == b])[0]\n",
    "        y = neutralize((va + vb) / 2, bias_direction)\n",
    "        z = np.sqrt(1 - np.linalg.norm(y)**2)\n",
    "        if (va + vb).dot(bias_direction) < 0:\n",
    "            z = -z\n",
    "        embedding[embedding.index == a] = (z * bias_direction + y).reshape(1, -1)\n",
    "        embedding[embedding.index == b] = (-z * bias_direction + y).reshape(1, -1)\n",
    "        \n",
    "    # Normalize one more time\n",
    "    embedding = pd.DataFrame(embedding.to_numpy() / np.linalg.norm(embedding.to_numpy(), axis=1)[:, np.newaxis], index=embedding.index, dtype='f')\n",
    "    \n",
    "    return embedding"
   ]
  },
  {
   "cell_type": "code",
   "execution_count": 4,
   "metadata": {},
   "outputs": [
    {
     "name": "stdout",
     "output_type": "stream",
     "text": [
      "0\n",
      "100000\n",
      "200000\n",
      "300000\n"
     ]
    }
   ],
   "source": [
    "embeddings = load_embeddings('data/glove.6B.100d.txt')"
   ]
  },
  {
   "cell_type": "code",
   "execution_count": 5,
   "metadata": {},
   "outputs": [
    {
     "name": "stdout",
     "output_type": "stream",
     "text": [
      "Neutralizing\n",
      "0\n",
      "100000\n",
      "200000\n",
      "300000\n"
     ]
    }
   ],
   "source": [
    "embeddings_debiased = debias(embeddings\n",
    "                             , np.array(embeddings[embeddings.index == 'american'])[0] - np.array(embeddings[embeddings.index == 'mexican'])[0]\n",
    "                             , [('american','mexican')])"
   ]
  },
  {
   "cell_type": "code",
   "execution_count": 6,
   "metadata": {},
   "outputs": [],
   "source": [
    "pos_words = load_lexicon('data/positive-words.txt')\n",
    "neg_words = load_lexicon('data/negative-words.txt')"
   ]
  },
  {
   "cell_type": "code",
   "execution_count": 7,
   "metadata": {},
   "outputs": [],
   "source": [
    "pos_vectors = embeddings_debiased.reindex(index=pos_words).dropna()\n",
    "neg_vectors = embeddings_debiased.reindex(index=neg_words).dropna()"
   ]
  },
  {
   "cell_type": "code",
   "execution_count": 8,
   "metadata": {},
   "outputs": [],
   "source": [
    "vectors = pd.concat([pos_vectors, neg_vectors])\n",
    "targets = np.array([1 for entry in pos_vectors.index] + [-1 for entry in neg_vectors.index])\n",
    "labels = list(pos_vectors.index) + list(neg_vectors.index)"
   ]
  },
  {
   "cell_type": "code",
   "execution_count": 9,
   "metadata": {},
   "outputs": [],
   "source": [
    "train_vectors, test_vectors, train_targets, test_targets, train_labels, test_labels = \\\n",
    "    train_test_split(vectors, targets, labels, test_size=0.1, random_state=0)"
   ]
  },
  {
   "cell_type": "code",
   "execution_count": 10,
   "metadata": {},
   "outputs": [
    {
     "data": {
      "text/plain": [
       "SGDClassifier(loss='log', random_state=0)"
      ]
     },
     "execution_count": 10,
     "metadata": {},
     "output_type": "execute_result"
    }
   ],
   "source": [
    "model = SGDClassifier(loss='log', random_state=0)\n",
    "model.fit(train_vectors, train_targets)"
   ]
  },
  {
   "cell_type": "code",
   "execution_count": 11,
   "metadata": {},
   "outputs": [
    {
     "data": {
      "text/plain": [
       "0.9038461538461539"
      ]
     },
     "execution_count": 11,
     "metadata": {},
     "output_type": "execute_result"
    }
   ],
   "source": [
    "accuracy_score(model.predict(test_vectors), test_targets)"
   ]
  },
  {
   "cell_type": "code",
   "execution_count": 12,
   "metadata": {},
   "outputs": [
    {
     "data": {
      "text/html": [
       "<div>\n",
       "<style scoped>\n",
       "    .dataframe tbody tr th:only-of-type {\n",
       "        vertical-align: middle;\n",
       "    }\n",
       "\n",
       "    .dataframe tbody tr th {\n",
       "        vertical-align: top;\n",
       "    }\n",
       "\n",
       "    .dataframe thead th {\n",
       "        text-align: right;\n",
       "    }\n",
       "</style>\n",
       "<table border=\"1\" class=\"dataframe\">\n",
       "  <thead>\n",
       "    <tr style=\"text-align: right;\">\n",
       "      <th></th>\n",
       "      <th>sentiment</th>\n",
       "    </tr>\n",
       "  </thead>\n",
       "  <tbody>\n",
       "    <tr>\n",
       "      <th>american</th>\n",
       "      <td>0.924929</td>\n",
       "    </tr>\n",
       "    <tr>\n",
       "      <th>mexican</th>\n",
       "      <td>0.924929</td>\n",
       "    </tr>\n",
       "  </tbody>\n",
       "</table>\n",
       "</div>"
      ],
      "text/plain": [
       "          sentiment\n",
       "american   0.924929\n",
       "mexican    0.924929"
      ]
     },
     "execution_count": 12,
     "metadata": {},
     "output_type": "execute_result"
    }
   ],
   "source": [
    "words_to_sentiment(['american','mexican'])"
   ]
  },
  {
   "cell_type": "code",
   "execution_count": 13,
   "metadata": {},
   "outputs": [
    {
     "data": {
      "text/html": [
       "<div>\n",
       "<style scoped>\n",
       "    .dataframe tbody tr th:only-of-type {\n",
       "        vertical-align: middle;\n",
       "    }\n",
       "\n",
       "    .dataframe tbody tr th {\n",
       "        vertical-align: top;\n",
       "    }\n",
       "\n",
       "    .dataframe thead th {\n",
       "        text-align: right;\n",
       "    }\n",
       "</style>\n",
       "<table border=\"1\" class=\"dataframe\">\n",
       "  <thead>\n",
       "    <tr style=\"text-align: right;\">\n",
       "      <th></th>\n",
       "      <th>sentiment</th>\n",
       "    </tr>\n",
       "  </thead>\n",
       "  <tbody>\n",
       "    <tr>\n",
       "      <th>cunts</th>\n",
       "      <td>-1.682033</td>\n",
       "    </tr>\n",
       "    <tr>\n",
       "      <th>phobic</th>\n",
       "      <td>-1.438125</td>\n",
       "    </tr>\n",
       "    <tr>\n",
       "      <th>narrower</th>\n",
       "      <td>-1.797236</td>\n",
       "    </tr>\n",
       "    <tr>\n",
       "      <th>discordance</th>\n",
       "      <td>-2.767573</td>\n",
       "    </tr>\n",
       "    <tr>\n",
       "      <th>sourly</th>\n",
       "      <td>-3.215923</td>\n",
       "    </tr>\n",
       "    <tr>\n",
       "      <th>enthusiasm</th>\n",
       "      <td>4.369476</td>\n",
       "    </tr>\n",
       "    <tr>\n",
       "      <th>like</th>\n",
       "      <td>0.621674</td>\n",
       "    </tr>\n",
       "    <tr>\n",
       "      <th>averse</th>\n",
       "      <td>-3.614169</td>\n",
       "    </tr>\n",
       "    <tr>\n",
       "      <th>triumphantly</th>\n",
       "      <td>1.485135</td>\n",
       "    </tr>\n",
       "    <tr>\n",
       "      <th>auspicious</th>\n",
       "      <td>3.183328</td>\n",
       "    </tr>\n",
       "    <tr>\n",
       "      <th>threatening</th>\n",
       "      <td>-7.237650</td>\n",
       "    </tr>\n",
       "    <tr>\n",
       "      <th>dissent</th>\n",
       "      <td>-3.339899</td>\n",
       "    </tr>\n",
       "    <tr>\n",
       "      <th>succeed</th>\n",
       "      <td>4.279179</td>\n",
       "    </tr>\n",
       "    <tr>\n",
       "      <th>compliant</th>\n",
       "      <td>0.579469</td>\n",
       "    </tr>\n",
       "    <tr>\n",
       "      <th>disquiet</th>\n",
       "      <td>-3.817459</td>\n",
       "    </tr>\n",
       "    <tr>\n",
       "      <th>oppress</th>\n",
       "      <td>-4.084978</td>\n",
       "    </tr>\n",
       "    <tr>\n",
       "      <th>tarnished</th>\n",
       "      <td>-2.030446</td>\n",
       "    </tr>\n",
       "    <tr>\n",
       "      <th>groundless</th>\n",
       "      <td>-5.917079</td>\n",
       "    </tr>\n",
       "    <tr>\n",
       "      <th>shocked</th>\n",
       "      <td>-2.118851</td>\n",
       "    </tr>\n",
       "    <tr>\n",
       "      <th>troublesome</th>\n",
       "      <td>-6.792592</td>\n",
       "    </tr>\n",
       "  </tbody>\n",
       "</table>\n",
       "</div>"
      ],
      "text/plain": [
       "              sentiment\n",
       "cunts         -1.682033\n",
       "phobic        -1.438125\n",
       "narrower      -1.797236\n",
       "discordance   -2.767573\n",
       "sourly        -3.215923\n",
       "enthusiasm     4.369476\n",
       "like           0.621674\n",
       "averse        -3.614169\n",
       "triumphantly   1.485135\n",
       "auspicious     3.183328\n",
       "threatening   -7.237650\n",
       "dissent       -3.339899\n",
       "succeed        4.279179\n",
       "compliant      0.579469\n",
       "disquiet      -3.817459\n",
       "oppress       -4.084978\n",
       "tarnished     -2.030446\n",
       "groundless    -5.917079\n",
       "shocked       -2.118851\n",
       "troublesome   -6.792592"
      ]
     },
     "execution_count": 13,
     "metadata": {},
     "output_type": "execute_result"
    }
   ],
   "source": [
    "words_to_sentiment(test_labels).iloc[:20]"
   ]
  },
  {
   "cell_type": "code",
   "execution_count": 14,
   "metadata": {},
   "outputs": [
    {
     "data": {
      "text/html": [
       "<div>\n",
       "<style scoped>\n",
       "    .dataframe tbody tr th:only-of-type {\n",
       "        vertical-align: middle;\n",
       "    }\n",
       "\n",
       "    .dataframe tbody tr th {\n",
       "        vertical-align: top;\n",
       "    }\n",
       "\n",
       "    .dataframe thead th {\n",
       "        text-align: right;\n",
       "    }\n",
       "</style>\n",
       "<table border=\"1\" class=\"dataframe\">\n",
       "  <thead>\n",
       "    <tr style=\"text-align: right;\">\n",
       "      <th></th>\n",
       "      <th>sentiment</th>\n",
       "    </tr>\n",
       "  </thead>\n",
       "  <tbody>\n",
       "    <tr>\n",
       "      <th>disadvantages</th>\n",
       "      <td>-0.998564</td>\n",
       "    </tr>\n",
       "    <tr>\n",
       "      <th>brilliance</th>\n",
       "      <td>2.961611</td>\n",
       "    </tr>\n",
       "    <tr>\n",
       "      <th>skillfully</th>\n",
       "      <td>1.708132</td>\n",
       "    </tr>\n",
       "    <tr>\n",
       "      <th>ire</th>\n",
       "      <td>-3.797091</td>\n",
       "    </tr>\n",
       "    <tr>\n",
       "      <th>modern</th>\n",
       "      <td>4.535323</td>\n",
       "    </tr>\n",
       "    <tr>\n",
       "      <th>obscured</th>\n",
       "      <td>-3.512352</td>\n",
       "    </tr>\n",
       "    <tr>\n",
       "      <th>break-ups</th>\n",
       "      <td>-1.267326</td>\n",
       "    </tr>\n",
       "    <tr>\n",
       "      <th>unfounded</th>\n",
       "      <td>-6.025955</td>\n",
       "    </tr>\n",
       "    <tr>\n",
       "      <th>scrambling</th>\n",
       "      <td>-2.524195</td>\n",
       "    </tr>\n",
       "    <tr>\n",
       "      <th>unexpected</th>\n",
       "      <td>-0.781261</td>\n",
       "    </tr>\n",
       "    <tr>\n",
       "      <th>achievements</th>\n",
       "      <td>7.545420</td>\n",
       "    </tr>\n",
       "    <tr>\n",
       "      <th>unsupportive</th>\n",
       "      <td>-2.919534</td>\n",
       "    </tr>\n",
       "    <tr>\n",
       "      <th>disintegration</th>\n",
       "      <td>-4.570791</td>\n",
       "    </tr>\n",
       "    <tr>\n",
       "      <th>graceless</th>\n",
       "      <td>-4.402048</td>\n",
       "    </tr>\n",
       "    <tr>\n",
       "      <th>mania</th>\n",
       "      <td>-2.579202</td>\n",
       "    </tr>\n",
       "    <tr>\n",
       "      <th>mistakes</th>\n",
       "      <td>-4.341639</td>\n",
       "    </tr>\n",
       "    <tr>\n",
       "      <th>delightful</th>\n",
       "      <td>3.989802</td>\n",
       "    </tr>\n",
       "    <tr>\n",
       "      <th>aborts</th>\n",
       "      <td>-2.065938</td>\n",
       "    </tr>\n",
       "    <tr>\n",
       "      <th>clever</th>\n",
       "      <td>0.840597</td>\n",
       "    </tr>\n",
       "    <tr>\n",
       "      <th>disparagingly</th>\n",
       "      <td>-3.427130</td>\n",
       "    </tr>\n",
       "  </tbody>\n",
       "</table>\n",
       "</div>"
      ],
      "text/plain": [
       "                sentiment\n",
       "disadvantages   -0.998564\n",
       "brilliance       2.961611\n",
       "skillfully       1.708132\n",
       "ire             -3.797091\n",
       "modern           4.535323\n",
       "obscured        -3.512352\n",
       "break-ups       -1.267326\n",
       "unfounded       -6.025955\n",
       "scrambling      -2.524195\n",
       "unexpected      -0.781261\n",
       "achievements     7.545420\n",
       "unsupportive    -2.919534\n",
       "disintegration  -4.570791\n",
       "graceless       -4.402048\n",
       "mania           -2.579202\n",
       "mistakes        -4.341639\n",
       "delightful       3.989802\n",
       "aborts          -2.065938\n",
       "clever           0.840597\n",
       "disparagingly   -3.427130"
      ]
     },
     "execution_count": 14,
     "metadata": {},
     "output_type": "execute_result"
    }
   ],
   "source": [
    "words_to_sentiment(test_labels).iloc[-20:]"
   ]
  }
 ],
 "metadata": {
  "kernelspec": {
   "display_name": "Python 3",
   "language": "python",
   "name": "python3"
  },
  "language_info": {
   "codemirror_mode": {
    "name": "ipython",
    "version": 3
   },
   "file_extension": ".py",
   "mimetype": "text/x-python",
   "name": "python",
   "nbconvert_exporter": "python",
   "pygments_lexer": "ipython3",
   "version": "3.8.3"
  }
 },
 "nbformat": 4,
 "nbformat_minor": 4
}
