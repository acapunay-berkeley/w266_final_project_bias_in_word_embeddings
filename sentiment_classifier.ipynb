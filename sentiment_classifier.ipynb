{
 "cells": [
  {
   "cell_type": "markdown",
   "metadata": {},
   "source": [
    "Source: http://blog.conceptnet.io/posts/2017/how-to-make-a-racist-ai-without-really-trying/"
   ]
  },
  {
   "cell_type": "code",
   "execution_count": 1,
   "metadata": {},
   "outputs": [],
   "source": [
    "import re\n",
    "import numpy as np\n",
    "import pandas as pd\n",
    "from sklearn.preprocessing import normalize\n",
    "from sklearn.model_selection import train_test_split\n",
    "from sklearn.metrics import accuracy_score\n",
    "from sklearn.linear_model import SGDClassifier"
   ]
  },
  {
   "cell_type": "code",
   "execution_count": 2,
   "metadata": {},
   "outputs": [],
   "source": [
    "TOKEN_RE = re.compile(r\"\\w.*?\\b\")"
   ]
  },
  {
   "cell_type": "code",
   "execution_count": 3,
   "metadata": {},
   "outputs": [],
   "source": [
    "def load_lexicon(filename):\n",
    "    \"\"\"\n",
    "    Load a file from Bing Liu's sentiment lexicon\n",
    "    (https://www.cs.uic.edu/~liub/FBS/sentiment-analysis.html), containing\n",
    "    English words in Latin-1 encoding.\n",
    "    \n",
    "    One file contains a list of positive words, and the other contains\n",
    "    a list of negative words. The files contain comment lines starting\n",
    "    with ';' and blank lines, which should be skipped.\n",
    "    \"\"\"\n",
    "    lexicon = []\n",
    "    with open(filename, encoding='latin-1') as infile:\n",
    "        for line in infile:\n",
    "            line = line.rstrip()\n",
    "            if line and not line.startswith(';'):\n",
    "                lexicon.append(line)\n",
    "    return lexicon\n",
    "\n",
    "def load_embeddings(filename):\n",
    "    \n",
    "    labels = []\n",
    "    rows = []\n",
    "    with open(filename, encoding='utf-8') as infile:\n",
    "        \n",
    "        # Get the file\n",
    "        for i, line in enumerate(infile):\n",
    "            if i % 100000 == 0:\n",
    "                print(i)\n",
    "            items = line.rstrip().split(' ')\n",
    "            if len(items) == 2:\n",
    "                continue\n",
    "            labels.append(items[0])\n",
    "            \n",
    "            values = np.array([float(x) for x in items[1:]], 'f')\n",
    "            \n",
    "            # Normalize the values for geometry calculations\n",
    "            values = normalize(values.reshape(1, -1))\n",
    "            \n",
    "            rows.append(values)\n",
    "        \n",
    "        arr = np.vstack(rows)\n",
    "        return pd.DataFrame(arr, index=labels, dtype='f')\n",
    "\n",
    "def vecs_to_sentiment(vecs):\n",
    "    # predict_log_proba gives the log probability for each class\n",
    "    predictions = model.predict_log_proba(vecs)\n",
    "\n",
    "    # To see an overall positive vs. negative classification in one number,\n",
    "    # we take the log probability of positive sentiment minus the log\n",
    "    # probability of negative sentiment.\n",
    "    return predictions[:, 1] - predictions[:, 0]\n",
    "\n",
    "\n",
    "def words_to_sentiment(words):\n",
    "    vecs = embeddings.loc[words].dropna()\n",
    "    log_odds = vecs_to_sentiment(vecs)\n",
    "    return pd.DataFrame({'sentiment': log_odds}, index=vecs.index)\n",
    "\n",
    "def text_to_sentiment(text):\n",
    "    tokens = [token.casefold() for token in TOKEN_RE.findall(text)]\n",
    "    sentiments = words_to_sentiment(tokens)\n",
    "    return sentiments['sentiment'].mean()\n"
   ]
  },
  {
   "cell_type": "code",
   "execution_count": 4,
   "metadata": {},
   "outputs": [
    {
     "name": "stdout",
     "output_type": "stream",
     "text": [
      "0\n",
      "100000\n",
      "200000\n",
      "300000\n"
     ]
    }
   ],
   "source": [
    "embeddings = load_embeddings('data/glove.6B.100d.txt')"
   ]
  },
  {
   "cell_type": "code",
   "execution_count": 5,
   "metadata": {},
   "outputs": [],
   "source": [
    "pos_words = load_lexicon('data/positive-words.txt')\n",
    "neg_words = load_lexicon('data/negative-words.txt')"
   ]
  },
  {
   "cell_type": "code",
   "execution_count": 6,
   "metadata": {},
   "outputs": [],
   "source": [
    "pos_vectors = embeddings.reindex(index=pos_words).dropna()\n",
    "neg_vectors = embeddings.reindex(index=neg_words).dropna()"
   ]
  },
  {
   "cell_type": "code",
   "execution_count": 7,
   "metadata": {},
   "outputs": [],
   "source": [
    "vectors = pd.concat([pos_vectors, neg_vectors])\n",
    "targets = np.array([1 for entry in pos_vectors.index] + [-1 for entry in neg_vectors.index])\n",
    "labels = list(pos_vectors.index) + list(neg_vectors.index)"
   ]
  },
  {
   "cell_type": "code",
   "execution_count": 8,
   "metadata": {},
   "outputs": [],
   "source": [
    "train_vectors, test_vectors, train_targets, test_targets, train_labels, test_labels = \\\n",
    "    train_test_split(vectors, targets, labels, test_size=0.1, random_state=0)"
   ]
  },
  {
   "cell_type": "code",
   "execution_count": 9,
   "metadata": {},
   "outputs": [
    {
     "data": {
      "text/plain": [
       "SGDClassifier(loss='log', random_state=0)"
      ]
     },
     "execution_count": 9,
     "metadata": {},
     "output_type": "execute_result"
    }
   ],
   "source": [
    "model = SGDClassifier(loss='log', random_state=0)\n",
    "model.fit(train_vectors, train_targets)"
   ]
  },
  {
   "cell_type": "code",
   "execution_count": 10,
   "metadata": {},
   "outputs": [
    {
     "data": {
      "text/plain": [
       "0.8990384615384616"
      ]
     },
     "execution_count": 10,
     "metadata": {},
     "output_type": "execute_result"
    }
   ],
   "source": [
    "accuracy_score(model.predict(test_vectors), test_targets)"
   ]
  },
  {
   "cell_type": "code",
   "execution_count": 11,
   "metadata": {},
   "outputs": [
    {
     "data": {
      "text/html": [
       "<div>\n",
       "<style scoped>\n",
       "    .dataframe tbody tr th:only-of-type {\n",
       "        vertical-align: middle;\n",
       "    }\n",
       "\n",
       "    .dataframe tbody tr th {\n",
       "        vertical-align: top;\n",
       "    }\n",
       "\n",
       "    .dataframe thead th {\n",
       "        text-align: right;\n",
       "    }\n",
       "</style>\n",
       "<table border=\"1\" class=\"dataframe\">\n",
       "  <thead>\n",
       "    <tr style=\"text-align: right;\">\n",
       "      <th></th>\n",
       "      <th>sentiment</th>\n",
       "    </tr>\n",
       "  </thead>\n",
       "  <tbody>\n",
       "    <tr>\n",
       "      <th>american</th>\n",
       "      <td>1.372401</td>\n",
       "    </tr>\n",
       "    <tr>\n",
       "      <th>mexican</th>\n",
       "      <td>-0.333856</td>\n",
       "    </tr>\n",
       "  </tbody>\n",
       "</table>\n",
       "</div>"
      ],
      "text/plain": [
       "          sentiment\n",
       "american   1.372401\n",
       "mexican   -0.333856"
      ]
     },
     "execution_count": 11,
     "metadata": {},
     "output_type": "execute_result"
    }
   ],
   "source": [
    "words_to_sentiment(['american','mexican'])"
   ]
  },
  {
   "cell_type": "code",
   "execution_count": 12,
   "metadata": {},
   "outputs": [
    {
     "data": {
      "text/html": [
       "<div>\n",
       "<style scoped>\n",
       "    .dataframe tbody tr th:only-of-type {\n",
       "        vertical-align: middle;\n",
       "    }\n",
       "\n",
       "    .dataframe tbody tr th {\n",
       "        vertical-align: top;\n",
       "    }\n",
       "\n",
       "    .dataframe thead th {\n",
       "        text-align: right;\n",
       "    }\n",
       "</style>\n",
       "<table border=\"1\" class=\"dataframe\">\n",
       "  <thead>\n",
       "    <tr style=\"text-align: right;\">\n",
       "      <th></th>\n",
       "      <th>sentiment</th>\n",
       "    </tr>\n",
       "  </thead>\n",
       "  <tbody>\n",
       "    <tr>\n",
       "      <th>cunts</th>\n",
       "      <td>-1.625684</td>\n",
       "    </tr>\n",
       "    <tr>\n",
       "      <th>phobic</th>\n",
       "      <td>-1.174488</td>\n",
       "    </tr>\n",
       "    <tr>\n",
       "      <th>narrower</th>\n",
       "      <td>-1.527412</td>\n",
       "    </tr>\n",
       "    <tr>\n",
       "      <th>discordance</th>\n",
       "      <td>-2.941351</td>\n",
       "    </tr>\n",
       "    <tr>\n",
       "      <th>sourly</th>\n",
       "      <td>-3.185166</td>\n",
       "    </tr>\n",
       "    <tr>\n",
       "      <th>enthusiasm</th>\n",
       "      <td>4.436728</td>\n",
       "    </tr>\n",
       "    <tr>\n",
       "      <th>like</th>\n",
       "      <td>0.659964</td>\n",
       "    </tr>\n",
       "    <tr>\n",
       "      <th>averse</th>\n",
       "      <td>-3.530386</td>\n",
       "    </tr>\n",
       "    <tr>\n",
       "      <th>triumphantly</th>\n",
       "      <td>1.407724</td>\n",
       "    </tr>\n",
       "    <tr>\n",
       "      <th>auspicious</th>\n",
       "      <td>3.192836</td>\n",
       "    </tr>\n",
       "    <tr>\n",
       "      <th>threatening</th>\n",
       "      <td>-7.292408</td>\n",
       "    </tr>\n",
       "    <tr>\n",
       "      <th>dissent</th>\n",
       "      <td>-3.217290</td>\n",
       "    </tr>\n",
       "    <tr>\n",
       "      <th>succeed</th>\n",
       "      <td>4.331423</td>\n",
       "    </tr>\n",
       "    <tr>\n",
       "      <th>compliant</th>\n",
       "      <td>0.703952</td>\n",
       "    </tr>\n",
       "    <tr>\n",
       "      <th>disquiet</th>\n",
       "      <td>-3.712239</td>\n",
       "    </tr>\n",
       "    <tr>\n",
       "      <th>oppress</th>\n",
       "      <td>-4.081841</td>\n",
       "    </tr>\n",
       "    <tr>\n",
       "      <th>tarnished</th>\n",
       "      <td>-2.179210</td>\n",
       "    </tr>\n",
       "    <tr>\n",
       "      <th>groundless</th>\n",
       "      <td>-5.878930</td>\n",
       "    </tr>\n",
       "    <tr>\n",
       "      <th>shocked</th>\n",
       "      <td>-2.067872</td>\n",
       "    </tr>\n",
       "    <tr>\n",
       "      <th>troublesome</th>\n",
       "      <td>-6.805184</td>\n",
       "    </tr>\n",
       "  </tbody>\n",
       "</table>\n",
       "</div>"
      ],
      "text/plain": [
       "              sentiment\n",
       "cunts         -1.625684\n",
       "phobic        -1.174488\n",
       "narrower      -1.527412\n",
       "discordance   -2.941351\n",
       "sourly        -3.185166\n",
       "enthusiasm     4.436728\n",
       "like           0.659964\n",
       "averse        -3.530386\n",
       "triumphantly   1.407724\n",
       "auspicious     3.192836\n",
       "threatening   -7.292408\n",
       "dissent       -3.217290\n",
       "succeed        4.331423\n",
       "compliant      0.703952\n",
       "disquiet      -3.712239\n",
       "oppress       -4.081841\n",
       "tarnished     -2.179210\n",
       "groundless    -5.878930\n",
       "shocked       -2.067872\n",
       "troublesome   -6.805184"
      ]
     },
     "execution_count": 12,
     "metadata": {},
     "output_type": "execute_result"
    }
   ],
   "source": [
    "words_to_sentiment(test_labels).iloc[:20]"
   ]
  },
  {
   "cell_type": "code",
   "execution_count": 13,
   "metadata": {},
   "outputs": [
    {
     "data": {
      "text/html": [
       "<div>\n",
       "<style scoped>\n",
       "    .dataframe tbody tr th:only-of-type {\n",
       "        vertical-align: middle;\n",
       "    }\n",
       "\n",
       "    .dataframe tbody tr th {\n",
       "        vertical-align: top;\n",
       "    }\n",
       "\n",
       "    .dataframe thead th {\n",
       "        text-align: right;\n",
       "    }\n",
       "</style>\n",
       "<table border=\"1\" class=\"dataframe\">\n",
       "  <thead>\n",
       "    <tr style=\"text-align: right;\">\n",
       "      <th></th>\n",
       "      <th>sentiment</th>\n",
       "    </tr>\n",
       "  </thead>\n",
       "  <tbody>\n",
       "    <tr>\n",
       "      <th>disadvantages</th>\n",
       "      <td>-0.884199</td>\n",
       "    </tr>\n",
       "    <tr>\n",
       "      <th>brilliance</th>\n",
       "      <td>3.194220</td>\n",
       "    </tr>\n",
       "    <tr>\n",
       "      <th>skillfully</th>\n",
       "      <td>1.705191</td>\n",
       "    </tr>\n",
       "    <tr>\n",
       "      <th>ire</th>\n",
       "      <td>-3.704145</td>\n",
       "    </tr>\n",
       "    <tr>\n",
       "      <th>modern</th>\n",
       "      <td>4.651355</td>\n",
       "    </tr>\n",
       "    <tr>\n",
       "      <th>obscured</th>\n",
       "      <td>-3.478131</td>\n",
       "    </tr>\n",
       "    <tr>\n",
       "      <th>break-ups</th>\n",
       "      <td>-1.573020</td>\n",
       "    </tr>\n",
       "    <tr>\n",
       "      <th>unfounded</th>\n",
       "      <td>-6.031693</td>\n",
       "    </tr>\n",
       "    <tr>\n",
       "      <th>scrambling</th>\n",
       "      <td>-2.435312</td>\n",
       "    </tr>\n",
       "    <tr>\n",
       "      <th>unexpected</th>\n",
       "      <td>-0.776431</td>\n",
       "    </tr>\n",
       "    <tr>\n",
       "      <th>achievements</th>\n",
       "      <td>7.635392</td>\n",
       "    </tr>\n",
       "    <tr>\n",
       "      <th>unsupportive</th>\n",
       "      <td>-3.013337</td>\n",
       "    </tr>\n",
       "    <tr>\n",
       "      <th>disintegration</th>\n",
       "      <td>-4.410114</td>\n",
       "    </tr>\n",
       "    <tr>\n",
       "      <th>graceless</th>\n",
       "      <td>-4.337581</td>\n",
       "    </tr>\n",
       "    <tr>\n",
       "      <th>mania</th>\n",
       "      <td>-2.654868</td>\n",
       "    </tr>\n",
       "    <tr>\n",
       "      <th>mistakes</th>\n",
       "      <td>-4.313953</td>\n",
       "    </tr>\n",
       "    <tr>\n",
       "      <th>delightful</th>\n",
       "      <td>4.115031</td>\n",
       "    </tr>\n",
       "    <tr>\n",
       "      <th>aborts</th>\n",
       "      <td>-1.956794</td>\n",
       "    </tr>\n",
       "    <tr>\n",
       "      <th>clever</th>\n",
       "      <td>0.793872</td>\n",
       "    </tr>\n",
       "    <tr>\n",
       "      <th>disparagingly</th>\n",
       "      <td>-3.511079</td>\n",
       "    </tr>\n",
       "  </tbody>\n",
       "</table>\n",
       "</div>"
      ],
      "text/plain": [
       "                sentiment\n",
       "disadvantages   -0.884199\n",
       "brilliance       3.194220\n",
       "skillfully       1.705191\n",
       "ire             -3.704145\n",
       "modern           4.651355\n",
       "obscured        -3.478131\n",
       "break-ups       -1.573020\n",
       "unfounded       -6.031693\n",
       "scrambling      -2.435312\n",
       "unexpected      -0.776431\n",
       "achievements     7.635392\n",
       "unsupportive    -3.013337\n",
       "disintegration  -4.410114\n",
       "graceless       -4.337581\n",
       "mania           -2.654868\n",
       "mistakes        -4.313953\n",
       "delightful       4.115031\n",
       "aborts          -1.956794\n",
       "clever           0.793872\n",
       "disparagingly   -3.511079"
      ]
     },
     "execution_count": 13,
     "metadata": {},
     "output_type": "execute_result"
    }
   ],
   "source": [
    "words_to_sentiment(test_labels).iloc[-20:]"
   ]
  }
 ],
 "metadata": {
  "kernelspec": {
   "display_name": "Python 3",
   "language": "python",
   "name": "python3"
  },
  "language_info": {
   "codemirror_mode": {
    "name": "ipython",
    "version": 3
   },
   "file_extension": ".py",
   "mimetype": "text/x-python",
   "name": "python",
   "nbconvert_exporter": "python",
   "pygments_lexer": "ipython3",
   "version": "3.8.3"
  }
 },
 "nbformat": 4,
 "nbformat_minor": 4
}
