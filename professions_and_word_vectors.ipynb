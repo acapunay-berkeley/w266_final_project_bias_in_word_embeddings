{
 "cells": [
  {
   "cell_type": "markdown",
   "metadata": {},
   "source": [
    "# Professions and Word Vectors"
   ]
  },
  {
   "cell_type": "code",
   "execution_count": 1,
   "metadata": {},
   "outputs": [],
   "source": [
    "import numpy as np\n",
    "import pandas as pd\n",
    "import pickle\n",
    "from sklearn.preprocessing import normalize\n",
    "import matplotlib.pyplot as plt\n",
    "%matplotlib inline"
   ]
  },
  {
   "cell_type": "markdown",
   "metadata": {},
   "source": [
    "## Helper Functions"
   ]
  },
  {
   "cell_type": "markdown",
   "metadata": {},
   "source": [
    "Source: \"How to make a racist AI without really trying\""
   ]
  },
  {
   "cell_type": "code",
   "execution_count": 2,
   "metadata": {},
   "outputs": [],
   "source": [
    "def load_embeddings(filename):\n",
    "    \n",
    "    labels = []\n",
    "    rows = []\n",
    "    with open(filename, encoding='utf-8') as infile:\n",
    "        \n",
    "        # Get the file\n",
    "        for i, line in enumerate(infile):\n",
    "            if i % 100000 == 0:\n",
    "                print(i)\n",
    "            items = line.rstrip().split(' ')\n",
    "            if len(items) == 2:\n",
    "                continue\n",
    "            labels.append(items[0])\n",
    "            \n",
    "            values = np.array([float(x) for x in items[1:]], 'f')\n",
    "            \n",
    "            # Normalize the values for geometry calculations\n",
    "            values = normalize(values.reshape(1, -1))\n",
    "            \n",
    "            rows.append(values)\n",
    "        \n",
    "        arr = np.vstack(rows)\n",
    "        return pd.DataFrame(arr, index=labels, dtype='f')"
   ]
  },
  {
   "cell_type": "markdown",
   "metadata": {},
   "source": [
    "## Data In"
   ]
  },
  {
   "cell_type": "code",
   "execution_count": 3,
   "metadata": {},
   "outputs": [
    {
     "name": "stdout",
     "output_type": "stream",
     "text": [
      "0\n",
      "100000\n",
      "200000\n",
      "300000\n"
     ]
    }
   ],
   "source": [
    "# We will use the 400K sample since the other samples will kill the machine\n",
    "embeddings = load_embeddings('data/glove.6B.100d.txt')"
   ]
  },
  {
   "cell_type": "markdown",
   "metadata": {},
   "source": [
    "## Analysis"
   ]
  },
  {
   "cell_type": "code",
   "execution_count": 4,
   "metadata": {},
   "outputs": [],
   "source": [
    "# Get our two endpoints for our hispanic-american axis\n",
    "mexican_vector = np.array(embeddings[embeddings.index == 'mexican'])\n",
    "american_vector = np.array(embeddings[embeddings.index == 'american'])"
   ]
  },
  {
   "cell_type": "code",
   "execution_count": 5,
   "metadata": {},
   "outputs": [],
   "source": [
    "# Get the direction vector that will define our hispanic-american axis\n",
    "direction = american_vector - mexican_vector"
   ]
  },
  {
   "cell_type": "code",
   "execution_count": 67,
   "metadata": {},
   "outputs": [],
   "source": [
    "# Profession words to check\n",
    "professions = ['businessman','manager','legislator','maid','waiter','waitress','janitor'\n",
    "               ,'doorman','custodian','gardener','landscaper','stonemason'\n",
    "               ,'governor','doctor','nurse','attorney','lawyer','dentist','astronaut'\n",
    "               ,'plumber','barber','hairdresser','cashier','dishwasher','nanny','manicurist'\n",
    "               ,'bartender','carpenter','programmer','ceo','vp','executive','accountant']\n",
    "\n",
    "# Add 'mexican' and 'american' for later plotting\n",
    "professions.append('mexican')\n",
    "professions.append('american')"
   ]
  },
  {
   "cell_type": "code",
   "execution_count": 68,
   "metadata": {},
   "outputs": [],
   "source": [
    "# Let's calculate the positions of each profession word on the hispanic-american axis\n",
    "positions_on_axis = list()\n",
    "for profession in professions:\n",
    "    \n",
    "    position = np.sum(np.array(embeddings[embeddings.index == profession]) * direction)/np.linalg.norm(direction)**2\n",
    "    positions_on_axis.append(position)\n",
    "\n"
   ]
  },
  {
   "cell_type": "code",
   "execution_count": 69,
   "metadata": {},
   "outputs": [
    {
     "data": {
      "image/png": "[encoded data removed]",
      "text/plain": [
       "<Figure size 360x1080 with 1 Axes>"
      ]
     },
     "metadata": {
      "needs_background": "light"
     },
     "output_type": "display_data"
    }
   ],
   "source": [
    "# Let's plot it\n",
    "fig, ax = plt.subplots(figsize=(5,15))\n",
    "\n",
    "zeros_for_1d = np.zeros_like(positions_on_axis)\n",
    "ax.plot(zeros_for_1d, positions_on_axis)\n",
    "ax.axhline(0, linestyle='--', color='red')\n",
    "\n",
    "# Annotate in order\n",
    "sorting_indices = np.argsort(np.array(positions_on_axis))\n",
    "\n",
    "for i, ix in enumerate(sorting_indices):\n",
    "    txt = professions[ix]\n",
    "    if txt == 'mexican':\n",
    "        ax.annotate(txt, (-0.0075, positions_on_axis[ix]-0.02))\n",
    "    elif txt == 'american':\n",
    "        ax.annotate(txt, (-0.0075, positions_on_axis[ix]+0.02))\n",
    "    elif i % 2 == 0:\n",
    "        ax.annotate(txt, (0.001, positions_on_axis[ix]))\n",
    "    else:\n",
    "        ax.annotate(txt, (-0.03, positions_on_axis[ix]))\n",
    "        \n",
    "_ = ax.axis('off')"
   ]
  }
 ],
 "metadata": {
  "kernelspec": {
   "display_name": "Python 3",
   "language": "python",
   "name": "python3"
  },
  "language_info": {
   "codemirror_mode": {
    "name": "ipython",
    "version": 3
   },
   "file_extension": ".py",
   "mimetype": "text/x-python",
   "name": "python",
   "nbconvert_exporter": "python",
   "pygments_lexer": "ipython3",
   "version": "3.8.3"
  }
 },
 "nbformat": 4,
 "nbformat_minor": 4
}
