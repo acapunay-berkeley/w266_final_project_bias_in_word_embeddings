{
 "cells": [
  {
   "cell_type": "markdown",
   "metadata": {},
   "source": [
    "# Similarity of Positions in Embeddings"
   ]
  },
  {
   "cell_type": "code",
   "execution_count": 2,
   "metadata": {},
   "outputs": [],
   "source": [
    "import numpy as np\n",
    "import pandas as pd\n",
    "from sklearn.preprocessing import normalize\n",
    "from gensim.models import KeyedVectors\n",
    "import matplotlib.pyplot as plt\n",
    "%matplotlib inline"
   ]
  },
  {
   "cell_type": "markdown",
   "metadata": {},
   "source": [
    "## Helper Functions"
   ]
  },
  {
   "cell_type": "markdown",
   "metadata": {},
   "source": [
    "Source: \"How to make a racist AI without really trying\""
   ]
  },
  {
   "cell_type": "code",
   "execution_count": 3,
   "metadata": {},
   "outputs": [],
   "source": [
    "def load_embeddings(filename):\n",
    "    \n",
    "    labels = []\n",
    "    rows = []\n",
    "    with open(filename, encoding='utf-8') as infile:\n",
    "        \n",
    "        # Get the file\n",
    "        for i, line in enumerate(infile):\n",
    "            if i % 100000 == 0:\n",
    "                print(i)\n",
    "            items = line.rstrip().split(' ')\n",
    "            if len(items) == 2:\n",
    "                continue\n",
    "            labels.append(items[0])\n",
    "            \n",
    "            values = np.array([float(x) for x in items[1:]], 'f')\n",
    "            \n",
    "            # Normalize the values for geometry calculations\n",
    "            values = normalize(values.reshape(1, -1))\n",
    "            \n",
    "            rows.append(values)\n",
    "        \n",
    "        arr = np.vstack(rows)\n",
    "        return pd.DataFrame(arr, index=labels, dtype='f')"
   ]
  },
  {
   "cell_type": "markdown",
   "metadata": {},
   "source": [
    "## Data In"
   ]
  },
  {
   "cell_type": "code",
   "execution_count": 4,
   "metadata": {},
   "outputs": [
    {
     "name": "stdout",
     "output_type": "stream",
     "text": [
      "0\n",
      "100000\n",
      "200000\n",
      "300000\n"
     ]
    }
   ],
   "source": [
    "# Get the Glove and word2vec embeddings\n",
    "glove = load_embeddings('data/glove.6B.100d.txt')\n",
    "word2vec = KeyedVectors.load_word2vec_format('data/word2vec-google-news-300/word2vec-google-news-300.gz', limit=600000, binary=True)"
   ]
  },
  {
   "cell_type": "markdown",
   "metadata": {},
   "source": [
    "## Analysis"
   ]
  },
  {
   "cell_type": "code",
   "execution_count": 35,
   "metadata": {},
   "outputs": [],
   "source": [
    "# Get our two endpoints for our hispanic-american axis in both embeddings\n",
    "mexican_vector_glove = np.array(glove[glove.index == 'mexican'])\n",
    "american_vector_glove = np.array(glove[glove.index == 'american'])\n",
    "\n",
    "mexican_vector_word2vec = word2vec.get_vector('mexican')\n",
    "american_vector_word2vec = word2vec.get_vector('american')"
   ]
  },
  {
   "cell_type": "code",
   "execution_count": 36,
   "metadata": {},
   "outputs": [],
   "source": [
    "# Get directions in both embeddings\n",
    "direction_glove = american_vector_glove - mexican_vector_glove\n",
    "direction_word2vec = american_vector_word2vec - mexican_vector_word2vec"
   ]
  },
  {
   "cell_type": "code",
   "execution_count": 37,
   "metadata": {},
   "outputs": [],
   "source": [
    "# Profession words to check\n",
    "professions_glove = ['businessman','manager','legislator','maid','waiter','waitress','janitor'\n",
    "                     ,'doorman','custodian','gardener','landscaper','stonemason'\n",
    "                     ,'governor','doctor','nurse','attorney','lawyer','dentist','astronaut'\n",
    "                     ,'plumber','barber','hairdresser','cashier','dishwasher','nanny','manicurist'\n",
    "                     ,'bartender','carpenter','programmer','ceo','vp','executive','accountant']\n",
    "\n",
    "# word2vec has capitalized letters, so list has to be slightly modified\n",
    "professions_word2vec = ['businessman','manager','legislator','maid','waiter','waitress','janitor'\n",
    "                        ,'doorman','custodian','gardener','landscaper','stonemason'\n",
    "                        ,'governor','doctor','nurse','attorney','lawyer','dentist','astronaut'\n",
    "                        ,'plumber','barber','hairdresser','cashier','dishwasher','nanny','manicurist'\n",
    "                        ,'bartender','carpenter','programmer','CEO','VP','executive','accountant']"
   ]
  },
  {
   "cell_type": "code",
   "execution_count": 38,
   "metadata": {},
   "outputs": [],
   "source": [
    "# Let's calculate the positions of each profession word on the hispanic-american axis\n",
    "positions_on_axis_glove = list()\n",
    "for profession in professions_glove:\n",
    "    \n",
    "    position = np.sum(np.array(glove[glove.index == profession]) * direction_glove)/np.linalg.norm(direction_glove)**2\n",
    "    positions_on_axis_glove.append(position)\n",
    "\n",
    "positions_on_axis_word2vec = list()\n",
    "for profession in professions_word2vec:\n",
    "    \n",
    "    position = np.sum(word2vec.get_vector(profession) * direction_word2vec)/np.linalg.norm(direction_word2vec)**2\n",
    "    positions_on_axis_word2vec.append(position)"
   ]
  },
  {
   "cell_type": "code",
   "execution_count": 45,
   "metadata": {},
   "outputs": [
    {
     "data": {
      "image/png": "[encoded data removed]",
      "text/plain": [
       "<Figure size 576x576 with 1 Axes>"
      ]
     },
     "metadata": {
      "needs_background": "light"
     },
     "output_type": "display_data"
    }
   ],
   "source": [
    "fig, ax = plt.subplots(figsize=(8,8))\n",
    "\n",
    "ax.scatter(positions_on_axis_glove, positions_on_axis_word2vec)\n",
    "ax.plot([-0.35,0.35], [-0.35,0.35], linestyle='--', color='red', label='same position')\n",
    "_ = ax.set_xlim(-0.35, 0.35)\n",
    "_ = ax.set_ylim(-0.35, 0.35)\n",
    "_ = ax.set_xlabel('Position on Glove Mexican-American axis')\n",
    "_ = ax.set_ylabel('Position on word2vec Mexican-American axis')\n",
    "_ = ax.legend()\n",
    "\n",
    "plt.savefig('img/similarity_of_positions.jpg')"
   ]
  }
 ],
 "metadata": {
  "kernelspec": {
   "display_name": "Python 3",
   "language": "python",
   "name": "python3"
  },
  "language_info": {
   "codemirror_mode": {
    "name": "ipython",
    "version": 3
   },
   "file_extension": ".py",
   "mimetype": "text/x-python",
   "name": "python",
   "nbconvert_exporter": "python",
   "pygments_lexer": "ipython3",
   "version": "3.8.3"
  }
 },
 "nbformat": 4,
 "nbformat_minor": 4
}
